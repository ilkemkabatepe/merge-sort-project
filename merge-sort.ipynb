{
 "cells": [
  {
   "cell_type": "markdown",
   "id": "a6a0dda1-bd68-43d8-8dcd-007f6880f672",
   "metadata": {},
   "source": [
    "[16,21,11,8,12,22] -> Merge Sort\n",
    "\n",
    "Yukarıdaki dizinin sort türüne göre aşamalarını yazınız."
   ]
  },
  {
   "cell_type": "code",
   "execution_count": null,
   "id": "41580eba-8b94-41f2-8d5f-5d969df3e53f",
   "metadata": {},
   "outputs": [],
   "source": [
    "Tek eleman kalana kadar böleceğiz, daha sonra büyüklüğe göre sıralayarak birleştireceğiz.\n",
    "            [16,21,11,8,12,22]\n",
    "    \n",
    "        [16,21,11]       [8,12,22]\n",
    "        \n",
    "     [16]    [21,11]    [8]    [12,22]\n",
    "    \n",
    " [16]    [21]    [11]    [8]    [12]    [22]\n",
    "\n",
    "     [16]    [11,21]    [8]    [12,22]\n",
    "    \n",
    "        [16,11,21]       [8,12,22]\n",
    "        \n",
    "            [8,11,12,16,21,22]"
   ]
  },
  {
   "cell_type": "markdown",
   "id": "6b189e98-4da8-4dfe-83d6-caa2174d9b5a",
   "metadata": {},
   "source": [
    "Big-O gösterimini yazınız."
   ]
  },
  {
   "cell_type": "code",
   "execution_count": null,
   "id": "e2783406-2132-4f2f-a41e-4080ccc0bd1f",
   "metadata": {},
   "outputs": [],
   "source": [
    "n elemanlı bir array olduğu için ;\n",
    "2^x = n\n",
    "logn = x \n",
    "O(nlogn)"
   ]
  }
 ],
 "metadata": {
  "kernelspec": {
   "display_name": "Python 3 (ipykernel)",
   "language": "python",
   "name": "python3"
  },
  "language_info": {
   "codemirror_mode": {
    "name": "ipython",
    "version": 3
   },
   "file_extension": ".py",
   "mimetype": "text/x-python",
   "name": "python",
   "nbconvert_exporter": "python",
   "pygments_lexer": "ipython3",
   "version": "3.9.13"
  }
 },
 "nbformat": 4,
 "nbformat_minor": 5
}
